{
 "cells": [
  {
   "cell_type": "markdown",
   "metadata": {},
   "source": [
    "# Getting Started with Tableau"
   ]
  },
  {
   "cell_type": "markdown",
   "metadata": {},
   "source": [
    "## Introduction\n",
    "We have learned a little about what Tableau has to offer and a few if the features, now we will get into downloading and installing Tableau Public and getting familiar with the workspace and see how we can interact with the data using Tableau."
   ]
  },
  {
   "cell_type": "markdown",
   "metadata": {},
   "source": [
    "## Objectives\n",
    "You will be able to: \n",
    "* Download and install Tableau Public\n",
    "* Understand core components of the desktop\n",
    "* Perform basic functions such as create a new worksheet, dashboard, and story, clear a worksheet and save work"
   ]
  },
  {
   "cell_type": "markdown",
   "metadata": {},
   "source": [
    "## Dowloading and Installing Tableau Public\n",
    "Tableau Public is the free version of the software and requires the user to download the software package to their local machine. In order to use this public version, you will need to create an account first on the Tableau website. Follow the link below and click on the __SIGN UP__ button to create an account.  \n",
    "<a href=\"https://public.tableau.com/s/\">Tableau Public Account Creation</a>\n",
    "\n",
    "Once you have created your account, you will want to install the app on your local machine. The download page can be found on the Tableau website as well. Click on the link below then download the app by clicking on the __DOWNLOAD THE APP__ button and follow the instructions.  \n",
    "<a href=\"https://www.tableau.com/products/public/download\">Download the Tableau Public App</a>\n",
    "\n",
    "Once the download is complete, you may need to restart your machine for the changes to take affect. After downloading, you can continue with the lesson and get familiar with the interface."
   ]
  },
  {
   "cell_type": "markdown",
   "metadata": {},
   "source": [
    "## Our First Look at the Tableau Interface\n",
    "When Tableau opens, you will be in the Data Pane. This is where you will import or connect to the data you want to use in your notebook. On the left side of your screen, you will see the various options for connecting to data. Tableau provides a few data sets to help you to get familiar with the platform. "
   ]
  },
  {
   "cell_type": "markdown",
   "metadata": {},
   "source": [
    "#### Connecting to Data\n",
    "Tableau provides a generous variety of sample datasets which can be accessed via the __Resources__ menu in the lower right corner of your screen. Click the __Sample Data Sets__ link and you will be taken to the sample data sets page on the Tableau website. The `Superstore Sales` data set is one that we will be working with in future lessons, so you can download it now if you like.  \n",
    "- Click on the link to the data set to download it  \n",
    "- A dialogue box will open to chose the location to save the file  \n",
    "- For ease of access, choose the `datasources` folder which is found in the folder created by default during installation called `My Tableau Repository`  \n",
    "- Once you save the file, you can return to the Tableau workspace  \n",
    "> Go ahead and download the Superstore Sales data, we will use it to demonstrate other features of Tableau.\n",
    "\n",
    "Once you have data to work with, you can connect to it via the __Connect__ menu.  One option for a data connection is an Excel spreadsheet.  In order to connect to an Excel spreadsheet you would choose the __Microsoft Excel__ option from the menu to locate the file you wish to open.  \n",
    "<img src=\"https://curriculum-content.s3.amazonaws.com/data-science/images/tableau/data_pane.png\" alt=\"Tableau Data Connect Menu\" height=350>\n",
    "\n",
    "#### Choose the Data to Work With\n",
    "Often, a data set includes multiple sources, or in the case of an Excel spreadsheet, multiple sheets.  If your data has only one source, it will be selected by default, but if there are more than one, you will need to select the sheet(s) you wish to work with. For this lesson, we will be working with the __Orders__ sheet. To select it, simply drag and drop it into the workspace.  \n",
    "<img src=\"https://curriculum-content.s3.amazonaws.com/data-science/images/tableau/select_sheet.png\" alt=\"Selecting the working Sheet\" height=150>\n",
    "\n",
    "#### Starting a new worksheet\n",
    "Once you drag the sheet to the workspace, you will see a preview of the data. In this view, you can also filter the data, but we will explore this in later lessons. Tableau starts your worksheet for you, you can find it at the bottom of the screen labeled with the default name __Sheet 1__.  Click on this tab and you will be taken to the worksheet.  \n",
    "<img src=\"https://curriculum-content.s3.amazonaws.com/data-science/images/tableau/open_sheet.png\" alt=\"Selecting the default worksheet\" height=150>"
   ]
  },
  {
   "cell_type": "markdown",
   "metadata": {},
   "source": [
    "#### The Data Tab\n",
    "Let's first take a look at the __Data__ tab. In this section you will find all of your data fields.  Tableau calls these __Dimensions and Measures__ but we will touch more on that later. This tab is where you will find your different data sets if you connect multiple data sources. This is also where your custom measures will appear once you create them such as a column that is created from a calculation of other columns. We will dive into this in another lesson.  \n",
    "</br>\n",
    "<img src=\"https://curriculum-content.s3.amazonaws.com/data-science/images/tableau/data_tab.png\" alt=\"An image of the data tab\" height=300>  \n",
    "\n",
    "#### <font color='green'>Measures</font> and <font color='blue'>Demensions</font>\n",
    "\n",
    "You might have noticed that data have two distinct colors, blue and green. These colors help to distinguish between __Measures__ and __Dimensions__.  \n",
    "\n",
    "__Measures__ which are colored in <font color='green'>__GREEN__</font> contain the quantitative values that can be measured such as sales, height, and age. These values can be aggregated. When you add measure to your workspace Tableau automatically applies a defalt aggregation which is usually __sum__. If you look just before the name of each measure, you will see a small icon. These icons are generated by default by Tableau, and represent the type of data the measure is. If the data type is not accurate or you just want to customize it, you can do so by hovering over the measure, and then clicking the arrow to open the options menu. In this menu you will see _change data type_. You will have the option to change the type to string, decimal, whole number, date and time, or just date. You can also assign a geographic role if the data corresponds with such information. If Tableau detects that your data contains some geographic data, such as state, zip code, or country, latitude and longitude measures will be generate automatically.\n",
    "\n",
    "__Dimensions__ which are colored in <font color='blue'>__BLUE__</font> contain qualitative values.  These are values which are discrete such as month, state, and date. Dimensions, when added to the workspace, will affect the level of detail in the view. For example, if you have sales in your workspace already and you add the _state_ dimension to your workspace your view will consist of the sum sales in each state represented by a bar graph. Just like with the measures, the Tableau will assign data types to your dimensions, and you can change or customize the type of data in the same manner as the measures. Your options for data types will consist of the same options.\n",
    "\n"
   ]
  },
  {
   "cell_type": "markdown",
   "metadata": {},
   "source": [
    "#### The Menu Bar\n",
    "At the top, you will see the menu bar. This menu bar contains many functions to help you in your creation of worksheets and dashboards. Below you will see an image with numbers corresponding to the description of each item. We will highlight just a few of the common items and the others will be introduced as they are needed or they become relavent.\n",
    "1. The Tableau icon will return you to the __start page__ where you can start a new worksheet and connect to new data.\n",
    "2. __Undo__ will undo the last action\n",
    "3. __Redo__ will do the last action that was undone\n",
    "4. __Save__ will allow you to save your work either to Tableau Desktop or Tableau Public depending on which version you are using\n",
    "5. __Clear Sheet__ will allow you to remove everything from the sheet and start from scratch\n",
    "6. __Swap__ will allow you to swap the rows and columns of your chart or graph like in the case of a bar chart it would change a horizontal bar to a vertical bar\n",
    "7. __Sort__ will allow you to sort the values in your visualization with the choice of either ascending or descending\n",
    "8. __Fit__ will allow you to fit your visualization to the screen with the options of width, height, standard, and entire view\n",
    "9. __Presentation Mode__ will allow you to hide all of the editing tools and present your worksheets or dashboards  \n",
    "</br>\n",
    "<img src=\"https://curriculum-content.s3.amazonaws.com/data-science/images/tableau/menu_bar.png\" alt=\"Image of the menu bar with icons numbered 1 to 9 from left to right\">"
   ]
  },
  {
   "cell_type": "markdown",
   "metadata": {},
   "source": [
    "#### Cards\n",
    "In between the workspace and the data are three windows, the first two, _Pages_ and _Filters_ are called __shelves__, and the third, _Marks_ is called a __card__. These cards and shelves have many functions that we will dive into later, but here is an overview.\n",
    "\n",
    "__Pages__  \n",
    "The _Pages_ shelf helps to break up your view into multiple pages so you can better analyze the effect one specific field has on the rest of the data.\n",
    "\n",
    "__Filters__  \n",
    "The _Filters_ shelf allows you to choose which data to include and exclude from your view.\n",
    "\n",
    "__Marks__  \n",
    "The _Marks_ card allows you to add context and detail to your visualizations. You can also customize the appearance of the visualizations in the marks card such as adding color, text and adjusting the size of different features.\n",
    "\n",
    "<img src=\"https://curriculum-content.s3.amazonaws.com/data-science/images/tableau/cards.png\" alt=\"Image of Pages shelf, Filters shelf, and Marks card\" height=250>"
   ]
  },
  {
   "cell_type": "markdown",
   "metadata": {},
   "source": [
    "#### Shelves\n",
    "Rows\n",
    "Columns\n",
    "Measures\n",
    "- how to identify a measure\n",
    "    - continuous variables\n",
    "- how to identify a dimension\n",
    "    - discrete variables\n"
   ]
  },
  {
   "cell_type": "markdown",
   "metadata": {},
   "source": [
    "#### Show Me\n"
   ]
  },
  {
   "cell_type": "code",
   "execution_count": null,
   "metadata": {
    "vscode": {
     "languageId": "plaintext"
    }
   },
   "outputs": [],
   "source": [
    "On the right side of the screen is the _Show Me_ pane. With this pane you can choose the type of visualization. "
   ]
  },
  {
   "cell_type": "markdown",
   "metadata": {},
   "source": [
    "#### Worksheets\n",
    "What is a worksheet  \n",
    "Creating a worksheet\n",
    "- icon tab\n",
    "- tool bar"
   ]
  },
  {
   "cell_type": "markdown",
   "metadata": {},
   "source": [
    "#### Dashboards\n",
    "What is a dashboard  \n",
    "Creating a dashboard"
   ]
  },
  {
   "cell_type": "markdown",
   "metadata": {},
   "source": [
    "#### Stories\n",
    "What is a story  \n",
    "Creating a story"
   ]
  },
  {
   "cell_type": "markdown",
   "metadata": {},
   "source": [
    "## Summary\n",
    "Summary goes here"
   ]
  }
 ],
 "metadata": {
  "kernelspec": {
   "display_name": "Python 3",
   "language": "python",
   "name": "python3"
  },
  "language_info": {
   "codemirror_mode": {
    "name": "ipython",
    "version": 3
   },
   "file_extension": ".py",
   "mimetype": "text/x-python",
   "name": "python",
   "nbconvert_exporter": "python",
   "pygments_lexer": "ipython3",
   "version": "3.6.4"
  }
 },
 "nbformat": 4,
 "nbformat_minor": 2
}
