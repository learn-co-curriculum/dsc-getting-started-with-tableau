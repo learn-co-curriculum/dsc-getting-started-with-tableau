{
 "cells": [
  {
   "cell_type": "markdown",
   "metadata": {},
   "source": [
    "# Getting Started with Tableau"
   ]
  },
  {
   "cell_type": "markdown",
   "metadata": {},
   "source": [
    "## Introduction\n",
    "We have learned a little about what Tableau has to offer and a few if the features, now we will get into downloading and installing Tableau Public and getting familiar with the workspace and see how we can interact with the data using Tableau."
   ]
  },
  {
   "cell_type": "markdown",
   "metadata": {},
   "source": [
    "## Objectives\n",
    "You will be able to: \n",
    "* Download and install Tableau Public\n",
    "* Understand core components of the desktop\n",
    "* Perform basic functions such as create a new worksheet, dashboard, and story, clear a worksheet and save work"
   ]
  },
  {
   "cell_type": "markdown",
   "metadata": {},
   "source": [
    "## Dowloading and Installing Tableau Public\n",
    "Tableau Public is the free version of the software and requires the user to download the software package to their local machine. The software is avaliable for both Mac and Windows. In order to use this public version, you will need to creat an account first on the Tableau website. Follow the link below and click on the __sign up__ button to create an account.  \n",
    "<a href=\"https://public.tableau.com/s/\">Tableau Public Account Creation</a>\n",
    "\n",
    "Once you have created your account, you will want to install the app on your local machine. The download page can be found on the Tableau website as well. Click on the link below to download the app.  \n",
    "<a href=\"https://www.tableau.com/products/public/download\">Download the Tableau Public App</a>\n",
    "\n",
    "Once the download is complete, you may need to restart your machine for the changes to take affect. After downloading, you can continue with the lesson and get familiar with the interface."
   ]
  },
  {
   "cell_type": "markdown",
   "metadata": {},
   "source": [
    "## Our First Look at the Tableau Interface\n",
    "When Tableau opens, you will be in the Data Pane."
   ]
  },
  {
   "cell_type": "markdown",
   "metadata": {},
   "source": [
    "#### Toolbar\n",
    "New worksheet  \n",
    "Clear worksheet  \n",
    "Swap axes  \n",
    "Sort  \n",
    "- ascending\n",
    "- descending  \n",
    "\n",
    "Fit (view)  \n",
    "Presentation mode"
   ]
  },
  {
   "cell_type": "markdown",
   "metadata": {},
   "source": [
    "#### Cards\n",
    "Marks\n",
    "Pages\n",
    "Filters"
   ]
  },
  {
   "cell_type": "markdown",
   "metadata": {},
   "source": [
    "#### Show Me\n"
   ]
  },
  {
   "cell_type": "markdown",
   "metadata": {},
   "source": [
    "#### Shelves\n",
    "Rows\n",
    "Columns\n",
    "Measures\n",
    "- how to identify a measure\n",
    "    - continuous variables\n",
    "- how to identify a dimension\n",
    "    - discrete variables\n"
   ]
  },
  {
   "cell_type": "markdown",
   "metadata": {},
   "source": [
    "#### Worksheets\n",
    "What is a worksheet  \n",
    "Creating a worksheet\n",
    "- icon tab\n",
    "- tool bar"
   ]
  },
  {
   "cell_type": "markdown",
   "metadata": {},
   "source": [
    "#### Dashboards\n",
    "What is a dashboard  \n",
    "Creating a dashboard"
   ]
  },
  {
   "cell_type": "markdown",
   "metadata": {},
   "source": [
    "#### Stories\n",
    "What is a story  \n",
    "Creating a story"
   ]
  },
  {
   "cell_type": "markdown",
   "metadata": {},
   "source": [
    "## Summary\n",
    "Summary goes here"
   ]
  }
 ],
 "metadata": {
  "kernelspec": {
   "display_name": "Python 3",
   "language": "python",
   "name": "python3"
  },
  "language_info": {
   "codemirror_mode": {
    "name": "ipython",
    "version": 3
   },
   "file_extension": ".py",
   "mimetype": "text/x-python",
   "name": "python",
   "nbconvert_exporter": "python",
   "pygments_lexer": "ipython3",
   "version": "3.6.4"
  }
 },
 "nbformat": 4,
 "nbformat_minor": 2
}
